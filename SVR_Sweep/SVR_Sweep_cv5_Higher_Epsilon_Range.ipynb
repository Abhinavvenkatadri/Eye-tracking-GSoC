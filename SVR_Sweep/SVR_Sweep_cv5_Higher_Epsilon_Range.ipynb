{
 "cells": [
  {
   "cell_type": "code",
   "execution_count": 2,
   "id": "2de5dbdb-1774-4081-9286-06430cc7c3ed",
   "metadata": {},
   "outputs": [],
   "source": [
    "#!pip install pandas numpy sklearn --no-index\n",
    "\n"
   ]
  },
  {
   "cell_type": "code",
   "execution_count": 3,
   "id": "5f915f26-aa44-4aa4-907f-eee1f008fea3",
   "metadata": {},
   "outputs": [],
   "source": [
    "import os\n",
    "import numpy as np\n",
    "import pandas as pd\n",
    "from sklearn.svm import SVR\n",
    "from sklearn.model_selection import GridSearchCV\n",
    "from sklearn.preprocessing import StandardScaler\n",
    "from sklearn.multioutput import MultiOutputRegressor\n",
    "from sklearn.metrics import make_scorer\n",
    "from sklearn.model_selection import train_test_split\n"
   ]
  },
  {
   "cell_type": "code",
   "execution_count": 4,
   "id": "eb15326d-b00b-48f1-81d1-ccd1a4a84c18",
   "metadata": {},
   "outputs": [],
   "source": [
    "#This is used to remove spaces from a string\n",
    "def remove(string):\n",
    "    return string.replace(\" \", \"\")\n"
   ]
  },
  {
   "cell_type": "code",
   "execution_count": 5,
   "id": "32528c4b-44a2-438c-bef6-1a0676f09b73",
   "metadata": {},
   "outputs": [],
   "source": [
    "# Euclidean distance is defined\n",
    "def euc(a, b):\n",
    "    dist = np.sqrt(np.sum(np.square(a - b), axis=1))\n",
    "    mean = dist.mean()\n",
    "    return mean"
   ]
  },
  {
   "cell_type": "code",
   "execution_count": 108,
   "id": "bde03467-bb78-4da4-9266-034a105895a7",
   "metadata": {},
   "outputs": [],
   "source": [
    "#Changing path to folder containing CSV files\n",
    "os.chdir('/home/abhinav1/Users_MIT/CSVs_MIT_Dinesh_Unique')"
   ]
  },
  {
   "cell_type": "code",
   "execution_count": 202,
   "id": "f84e0ad3-189c-43d1-ae71-f22ed0bdc85a",
   "metadata": {},
   "outputs": [],
   "source": [
    "#Reading the CSV file\n",
    "Model_1=pd.read_csv('unique30_02078.csv')"
   ]
  },
  {
   "cell_type": "code",
   "execution_count": 203,
   "id": "32b2f355-11f5-4826-a35a-7a0cee42f455",
   "metadata": {},
   "outputs": [
    {
     "data": {
      "text/plain": [
       "(30, 3)"
      ]
     },
     "execution_count": 203,
     "metadata": {},
     "output_type": "execute_result"
    }
   ],
   "source": [
    "#Printin the shape of the model\n",
    "Model_1.shape"
   ]
  },
  {
   "cell_type": "code",
   "execution_count": 204,
   "id": "2663fffc-e3f2-4931-b4d9-665f80017ac5",
   "metadata": {},
   "outputs": [],
   "source": [
    "#This is example of pre split\n",
    "#Which means the dataset is first split randomly in 70:30 then grid search is applied on the train dataset to find the optimum epsilon value\n",
    "#Once the value is found it is used to fit the train set\n",
    "train, test = train_test_split(Model_1, test_size=0.3,random_state=42)\n",
    "a_train=train['Penultimate_Output']\n",
    "b_train=train['GT_Value']\n",
    "a_test=test['Penultimate_Output']\n",
    "b_test=test['GT_Value']\n",
    "\n",
    "for i in range(0,len(a_train)):\n",
    "    lis=[]\n",
    "    a_train.iloc[i]=remove(a_train.iloc[i])\n",
    "    x=a_train.iloc[i]\n",
    "    a=x.split(',')\n",
    "    x=a[0]\n",
    "    x=x[9:]\n",
    "    x1=a[1]\n",
    "\n",
    "    x2=a[2]\n",
    "\n",
    "    x3=a[3]\n",
    "    x3=x3[0:-2]\n",
    "\n",
    "    lis.append(float(x))\n",
    "    lis.append(float(x1))\n",
    "    lis.append(float(x2))\n",
    "    lis.append(float(x3))\n",
    "    a_train.iloc[i]=lis\n",
    "\n",
    "for i in range(0,len(a_test)):\n",
    "    lis=[]\n",
    "    a_test.iloc[i]=remove(a_test.iloc[i])\n",
    "    x=a_test.iloc[i]\n",
    "    a=x.split(',')\n",
    "    x=a[0]\n",
    "    x=x[9:]\n",
    "    x1=a[1]\n",
    "\n",
    "    x2=a[2]\n",
    "\n",
    "    x3=a[3]\n",
    "    x3=x3[0:-2]\n",
    "\n",
    "    lis.append(float(x))\n",
    "    lis.append(float(x1))\n",
    "    lis.append(float(x2))\n",
    "    lis.append(float(x3))\n",
    "    a_test.iloc[i]=lis\n",
    "for i in range(0,len(b_train)):\n",
    "    lis=[]\n",
    "    x=b_train.iloc[i]\n",
    "    a=x.split(',')\n",
    "    x1=a[0]\n",
    "    x1=x1[9:]\n",
    "    x2=a[1]\n",
    "    x2=x2[0:-2]\n",
    "    lis.append(float(x1))\n",
    "    lis.append(float(x2))\n",
    "    b_train.iloc[i]=lis\n",
    "for i in range(0,len(b_test)):\n",
    "    lis=[]\n",
    "    x=b_test.iloc[i]\n",
    "    a=x.split(',')\n",
    "    x1=a[0]\n",
    "    x1=x1[9:]\n",
    "    x2=a[1]\n",
    "    x2=x2[0:-2]\n",
    "    lis.append(float(x1))\n",
    "    lis.append(float(x2))\n",
    "    b_test.iloc[i]=lis\n",
    "for i in range(0,len(a_train)):\n",
    "    a_train.iloc[i]=np.array(a_train.iloc[i])\n",
    "    \n",
    "for i in range(0,len(b_train)):\n",
    "    b_train.iloc[i]=np.array(b_train.iloc[i])\n",
    "\n",
    "a_train = a_train.apply(pd.Series)\n",
    "\n",
    "b_train = b_train.apply(pd.Series)\n",
    "\n",
    "reg = MultiOutputRegressor(SVR())\n",
    "\n",
    "parameters = {'estimator__C': [20],  \n",
    "              'estimator__gamma': [0.06], \n",
    "              'estimator__kernel': ['rbf'],\n",
    "             'estimator__epsilon':[0.01,0.02,0.03,0.04,0.05,0.06,0.07,0.08,0.09,0.1,0.2,0.3,0.4,0.5,0.6,0.7,0.8,0.9,1,2,3,4,5,6,7,8,9,10,20,30,40,50,60,70,80,90,100,200,300,400,500,600,700,800,900,1000]}  \n",
    "custom_scorer = make_scorer(euc, greater_is_better=False)\n",
    "\n"
   ]
  },
  {
   "cell_type": "code",
   "execution_count": 205,
   "id": "609f3251-55f1-42c4-8e9f-d59784bd23c8",
   "metadata": {},
   "outputs": [
    {
     "name": "stdout",
     "output_type": "stream",
     "text": [
      "Fitting 3 folds for each of 46 candidates, totalling 138 fits\n",
      "[CV 1/3] END estimator__C=20, estimator__epsilon=0.01, estimator__gamma=0.06, estimator__kernel=rbf;, score=-1.687 total time=   0.0s\n",
      "[CV 2/3] END estimator__C=20, estimator__epsilon=0.01, estimator__gamma=0.06, estimator__kernel=rbf;, score=-1.639 total time=   0.0s\n",
      "[CV 3/3] END estimator__C=20, estimator__epsilon=0.01, estimator__gamma=0.06, estimator__kernel=rbf;, score=-0.891 total time=   0.0s\n",
      "[CV 1/3] END estimator__C=20, estimator__epsilon=0.02, estimator__gamma=0.06, estimator__kernel=rbf;, score=-1.677 total time=   0.0s\n",
      "[CV 2/3] END estimator__C=20, estimator__epsilon=0.02, estimator__gamma=0.06, estimator__kernel=rbf;, score=-1.642 total time=   0.0s\n",
      "[CV 3/3] END estimator__C=20, estimator__epsilon=0.02, estimator__gamma=0.06, estimator__kernel=rbf;, score=-0.887 total time=   0.0s\n",
      "[CV 1/3] END estimator__C=20, estimator__epsilon=0.03, estimator__gamma=0.06, estimator__kernel=rbf;, score=-1.669 total time=   0.0s\n",
      "[CV 2/3] END estimator__C=20, estimator__epsilon=0.03, estimator__gamma=0.06, estimator__kernel=rbf;, score=-1.646 total time=   0.0s\n",
      "[CV 3/3] END estimator__C=20, estimator__epsilon=0.03, estimator__gamma=0.06, estimator__kernel=rbf;, score=-0.885 total time=   0.0s\n",
      "[CV 1/3] END estimator__C=20, estimator__epsilon=0.04, estimator__gamma=0.06, estimator__kernel=rbf;, score=-1.659 total time=   0.0s\n",
      "[CV 2/3] END estimator__C=20, estimator__epsilon=0.04, estimator__gamma=0.06, estimator__kernel=rbf;, score=-1.651 total time=   0.0s\n",
      "[CV 3/3] END estimator__C=20, estimator__epsilon=0.04, estimator__gamma=0.06, estimator__kernel=rbf;, score=-0.882 total time=   0.0s\n",
      "[CV 1/3] END estimator__C=20, estimator__epsilon=0.05, estimator__gamma=0.06, estimator__kernel=rbf;, score=-1.651 total time=   0.0s\n",
      "[CV 2/3] END estimator__C=20, estimator__epsilon=0.05, estimator__gamma=0.06, estimator__kernel=rbf;, score=-1.655 total time=   0.0s\n",
      "[CV 3/3] END estimator__C=20, estimator__epsilon=0.05, estimator__gamma=0.06, estimator__kernel=rbf;, score=-0.880 total time=   0.0s\n",
      "[CV 1/3] END estimator__C=20, estimator__epsilon=0.06, estimator__gamma=0.06, estimator__kernel=rbf;, score=-1.647 total time=   0.0s\n",
      "[CV 2/3] END estimator__C=20, estimator__epsilon=0.06, estimator__gamma=0.06, estimator__kernel=rbf;, score=-1.659 total time=   0.0s\n",
      "[CV 3/3] END estimator__C=20, estimator__epsilon=0.06, estimator__gamma=0.06, estimator__kernel=rbf;, score=-0.879 total time=   0.0s\n",
      "[CV 1/3] END estimator__C=20, estimator__epsilon=0.07, estimator__gamma=0.06, estimator__kernel=rbf;, score=-1.620 total time=   0.0s\n",
      "[CV 2/3] END estimator__C=20, estimator__epsilon=0.07, estimator__gamma=0.06, estimator__kernel=rbf;, score=-1.661 total time=   0.0s\n",
      "[CV 3/3] END estimator__C=20, estimator__epsilon=0.07, estimator__gamma=0.06, estimator__kernel=rbf;, score=-0.882 total time=   0.0s\n",
      "[CV 1/3] END estimator__C=20, estimator__epsilon=0.08, estimator__gamma=0.06, estimator__kernel=rbf;, score=-1.604 total time=   0.0s\n",
      "[CV 2/3] END estimator__C=20, estimator__epsilon=0.08, estimator__gamma=0.06, estimator__kernel=rbf;, score=-1.662 total time=   0.0s\n",
      "[CV 3/3] END estimator__C=20, estimator__epsilon=0.08, estimator__gamma=0.06, estimator__kernel=rbf;, score=-0.882 total time=   0.0s\n",
      "[CV 1/3] END estimator__C=20, estimator__epsilon=0.09, estimator__gamma=0.06, estimator__kernel=rbf;, score=-1.609 total time=   0.0s\n",
      "[CV 2/3] END estimator__C=20, estimator__epsilon=0.09, estimator__gamma=0.06, estimator__kernel=rbf;, score=-1.664 total time=   0.0s\n",
      "[CV 3/3] END estimator__C=20, estimator__epsilon=0.09, estimator__gamma=0.06, estimator__kernel=rbf;, score=-0.883 total time=   0.0s\n",
      "[CV 1/3] END estimator__C=20, estimator__epsilon=0.1, estimator__gamma=0.06, estimator__kernel=rbf;, score=-1.616 total time=   0.0s\n",
      "[CV 2/3] END estimator__C=20, estimator__epsilon=0.1, estimator__gamma=0.06, estimator__kernel=rbf;, score=-1.665 total time=   0.0s\n",
      "[CV 3/3] END estimator__C=20, estimator__epsilon=0.1, estimator__gamma=0.06, estimator__kernel=rbf;, score=-0.884 total time=   0.0s\n",
      "[CV 1/3] END estimator__C=20, estimator__epsilon=0.2, estimator__gamma=0.06, estimator__kernel=rbf;, score=-1.611 total time=   0.0s\n",
      "[CV 2/3] END estimator__C=20, estimator__epsilon=0.2, estimator__gamma=0.06, estimator__kernel=rbf;, score=-1.657 total time=   0.0s\n",
      "[CV 3/3] END estimator__C=20, estimator__epsilon=0.2, estimator__gamma=0.06, estimator__kernel=rbf;, score=-0.900 total time=   0.0s\n",
      "[CV 1/3] END estimator__C=20, estimator__epsilon=0.3, estimator__gamma=0.06, estimator__kernel=rbf;, score=-1.633 total time=   0.0s\n",
      "[CV 2/3] END estimator__C=20, estimator__epsilon=0.3, estimator__gamma=0.06, estimator__kernel=rbf;, score=-1.629 total time=   0.0s\n",
      "[CV 3/3] END estimator__C=20, estimator__epsilon=0.3, estimator__gamma=0.06, estimator__kernel=rbf;, score=-0.902 total time=   0.0s\n",
      "[CV 1/3] END estimator__C=20, estimator__epsilon=0.4, estimator__gamma=0.06, estimator__kernel=rbf;, score=-1.651 total time=   0.0s\n",
      "[CV 2/3] END estimator__C=20, estimator__epsilon=0.4, estimator__gamma=0.06, estimator__kernel=rbf;, score=-1.565 total time=   0.0s\n",
      "[CV 3/3] END estimator__C=20, estimator__epsilon=0.4, estimator__gamma=0.06, estimator__kernel=rbf;, score=-0.932 total time=   0.0s\n",
      "[CV 1/3] END estimator__C=20, estimator__epsilon=0.5, estimator__gamma=0.06, estimator__kernel=rbf;, score=-1.689 total time=   0.0s\n",
      "[CV 2/3] END estimator__C=20, estimator__epsilon=0.5, estimator__gamma=0.06, estimator__kernel=rbf;, score=-1.478 total time=   0.0s\n",
      "[CV 3/3] END estimator__C=20, estimator__epsilon=0.5, estimator__gamma=0.06, estimator__kernel=rbf;, score=-0.928 total time=   0.0s\n",
      "[CV 1/3] END estimator__C=20, estimator__epsilon=0.6, estimator__gamma=0.06, estimator__kernel=rbf;, score=-1.755 total time=   0.0s\n",
      "[CV 2/3] END estimator__C=20, estimator__epsilon=0.6, estimator__gamma=0.06, estimator__kernel=rbf;, score=-1.402 total time=   0.0s\n",
      "[CV 3/3] END estimator__C=20, estimator__epsilon=0.6, estimator__gamma=0.06, estimator__kernel=rbf;, score=-0.942 total time=   0.0s\n",
      "[CV 1/3] END estimator__C=20, estimator__epsilon=0.7, estimator__gamma=0.06, estimator__kernel=rbf;, score=-1.786 total time=   0.0s\n",
      "[CV 2/3] END estimator__C=20, estimator__epsilon=0.7, estimator__gamma=0.06, estimator__kernel=rbf;, score=-1.383 total time=   0.0s\n",
      "[CV 3/3] END estimator__C=20, estimator__epsilon=0.7, estimator__gamma=0.06, estimator__kernel=rbf;, score=-0.912 total time=   0.0s\n",
      "[CV 1/3] END estimator__C=20, estimator__epsilon=0.8, estimator__gamma=0.06, estimator__kernel=rbf;, score=-1.792 total time=   0.0s\n",
      "[CV 2/3] END estimator__C=20, estimator__epsilon=0.8, estimator__gamma=0.06, estimator__kernel=rbf;, score=-1.348 total time=   0.0s\n",
      "[CV 3/3] END estimator__C=20, estimator__epsilon=0.8, estimator__gamma=0.06, estimator__kernel=rbf;, score=-0.928 total time=   0.0s\n",
      "[CV 1/3] END estimator__C=20, estimator__epsilon=0.9, estimator__gamma=0.06, estimator__kernel=rbf;, score=-2.008 total time=   0.0s\n",
      "[CV 2/3] END estimator__C=20, estimator__epsilon=0.9, estimator__gamma=0.06, estimator__kernel=rbf;, score=-1.305 total time=   0.0s\n",
      "[CV 3/3] END estimator__C=20, estimator__epsilon=0.9, estimator__gamma=0.06, estimator__kernel=rbf;, score=-0.999 total time=   0.0s\n",
      "[CV 1/3] END estimator__C=20, estimator__epsilon=1, estimator__gamma=0.06, estimator__kernel=rbf;, score=-2.166 total time=   0.0s\n",
      "[CV 2/3] END estimator__C=20, estimator__epsilon=1, estimator__gamma=0.06, estimator__kernel=rbf;, score=-1.291 total time=   0.0s\n",
      "[CV 3/3] END estimator__C=20, estimator__epsilon=1, estimator__gamma=0.06, estimator__kernel=rbf;, score=-1.130 total time=   0.0s\n",
      "[CV 1/3] END estimator__C=20, estimator__epsilon=2, estimator__gamma=0.06, estimator__kernel=rbf;, score=-3.206 total time=   0.0s\n",
      "[CV 2/3] END estimator__C=20, estimator__epsilon=2, estimator__gamma=0.06, estimator__kernel=rbf;, score=-1.733 total time=   0.0s\n",
      "[CV 3/3] END estimator__C=20, estimator__epsilon=2, estimator__gamma=0.06, estimator__kernel=rbf;, score=-1.474 total time=   0.0s\n",
      "[CV 1/3] END estimator__C=20, estimator__epsilon=3, estimator__gamma=0.06, estimator__kernel=rbf;, score=-3.165 total time=   0.0s\n",
      "[CV 2/3] END estimator__C=20, estimator__epsilon=3, estimator__gamma=0.06, estimator__kernel=rbf;, score=-1.983 total time=   0.0s\n",
      "[CV 3/3] END estimator__C=20, estimator__epsilon=3, estimator__gamma=0.06, estimator__kernel=rbf;, score=-1.553 total time=   0.0s\n",
      "[CV 1/3] END estimator__C=20, estimator__epsilon=4, estimator__gamma=0.06, estimator__kernel=rbf;, score=-3.605 total time=   0.0s\n",
      "[CV 2/3] END estimator__C=20, estimator__epsilon=4, estimator__gamma=0.06, estimator__kernel=rbf;, score=-2.207 total time=   0.0s\n",
      "[CV 3/3] END estimator__C=20, estimator__epsilon=4, estimator__gamma=0.06, estimator__kernel=rbf;, score=-2.424 total time=   0.0s\n",
      "[CV 1/3] END estimator__C=20, estimator__epsilon=5, estimator__gamma=0.06, estimator__kernel=rbf;, score=-3.605 total time=   0.0s\n",
      "[CV 2/3] END estimator__C=20, estimator__epsilon=5, estimator__gamma=0.06, estimator__kernel=rbf;, score=-2.347 total time=   0.0s\n",
      "[CV 3/3] END estimator__C=20, estimator__epsilon=5, estimator__gamma=0.06, estimator__kernel=rbf;, score=-2.566 total time=   0.0s\n",
      "[CV 1/3] END estimator__C=20, estimator__epsilon=6, estimator__gamma=0.06, estimator__kernel=rbf;, score=-3.605 total time=   0.0s\n",
      "[CV 2/3] END estimator__C=20, estimator__epsilon=6, estimator__gamma=0.06, estimator__kernel=rbf;, score=-2.347 total time=   0.0s\n",
      "[CV 3/3] END estimator__C=20, estimator__epsilon=6, estimator__gamma=0.06, estimator__kernel=rbf;, score=-2.566 total time=   0.0s\n",
      "[CV 1/3] END estimator__C=20, estimator__epsilon=7, estimator__gamma=0.06, estimator__kernel=rbf;, score=-3.605 total time=   0.0s\n",
      "[CV 2/3] END estimator__C=20, estimator__epsilon=7, estimator__gamma=0.06, estimator__kernel=rbf;, score=-2.347 total time=   0.0s\n",
      "[CV 3/3] END estimator__C=20, estimator__epsilon=7, estimator__gamma=0.06, estimator__kernel=rbf;, score=-2.566 total time=   0.0s\n",
      "[CV 1/3] END estimator__C=20, estimator__epsilon=8, estimator__gamma=0.06, estimator__kernel=rbf;, score=-3.605 total time=   0.0s\n",
      "[CV 2/3] END estimator__C=20, estimator__epsilon=8, estimator__gamma=0.06, estimator__kernel=rbf;, score=-2.347 total time=   0.0s\n",
      "[CV 3/3] END estimator__C=20, estimator__epsilon=8, estimator__gamma=0.06, estimator__kernel=rbf;, score=-2.566 total time=   0.0s\n",
      "[CV 1/3] END estimator__C=20, estimator__epsilon=9, estimator__gamma=0.06, estimator__kernel=rbf;, score=-3.605 total time=   0.0s\n",
      "[CV 2/3] END estimator__C=20, estimator__epsilon=9, estimator__gamma=0.06, estimator__kernel=rbf;, score=-2.347 total time=   0.0s\n",
      "[CV 3/3] END estimator__C=20, estimator__epsilon=9, estimator__gamma=0.06, estimator__kernel=rbf;, score=-2.566 total time=   0.0s\n",
      "[CV 1/3] END estimator__C=20, estimator__epsilon=10, estimator__gamma=0.06, estimator__kernel=rbf;, score=-3.605 total time=   0.0s\n",
      "[CV 2/3] END estimator__C=20, estimator__epsilon=10, estimator__gamma=0.06, estimator__kernel=rbf;, score=-2.347 total time=   0.0s\n",
      "[CV 3/3] END estimator__C=20, estimator__epsilon=10, estimator__gamma=0.06, estimator__kernel=rbf;, score=-2.566 total time=   0.0s\n",
      "[CV 1/3] END estimator__C=20, estimator__epsilon=20, estimator__gamma=0.06, estimator__kernel=rbf;, score=-3.605 total time=   0.0s\n",
      "[CV 2/3] END estimator__C=20, estimator__epsilon=20, estimator__gamma=0.06, estimator__kernel=rbf;, score=-2.347 total time=   0.0s\n",
      "[CV 3/3] END estimator__C=20, estimator__epsilon=20, estimator__gamma=0.06, estimator__kernel=rbf;, score=-2.566 total time=   0.0s\n",
      "[CV 1/3] END estimator__C=20, estimator__epsilon=30, estimator__gamma=0.06, estimator__kernel=rbf;, score=-3.605 total time=   0.0s\n",
      "[CV 2/3] END estimator__C=20, estimator__epsilon=30, estimator__gamma=0.06, estimator__kernel=rbf;, score=-2.347 total time=   0.0s\n",
      "[CV 3/3] END estimator__C=20, estimator__epsilon=30, estimator__gamma=0.06, estimator__kernel=rbf;, score=-2.566 total time=   0.0s\n",
      "[CV 1/3] END estimator__C=20, estimator__epsilon=40, estimator__gamma=0.06, estimator__kernel=rbf;, score=-3.605 total time=   0.0s\n",
      "[CV 2/3] END estimator__C=20, estimator__epsilon=40, estimator__gamma=0.06, estimator__kernel=rbf;, score=-2.347 total time=   0.0s\n",
      "[CV 3/3] END estimator__C=20, estimator__epsilon=40, estimator__gamma=0.06, estimator__kernel=rbf;, score=-2.566 total time=   0.0s\n",
      "[CV 1/3] END estimator__C=20, estimator__epsilon=50, estimator__gamma=0.06, estimator__kernel=rbf;, score=-3.605 total time=   0.0s\n",
      "[CV 2/3] END estimator__C=20, estimator__epsilon=50, estimator__gamma=0.06, estimator__kernel=rbf;, score=-2.347 total time=   0.0s\n",
      "[CV 3/3] END estimator__C=20, estimator__epsilon=50, estimator__gamma=0.06, estimator__kernel=rbf;, score=-2.566 total time=   0.0s\n",
      "[CV 1/3] END estimator__C=20, estimator__epsilon=60, estimator__gamma=0.06, estimator__kernel=rbf;, score=-3.605 total time=   0.0s\n",
      "[CV 2/3] END estimator__C=20, estimator__epsilon=60, estimator__gamma=0.06, estimator__kernel=rbf;, score=-2.347 total time=   0.0s\n",
      "[CV 3/3] END estimator__C=20, estimator__epsilon=60, estimator__gamma=0.06, estimator__kernel=rbf;, score=-2.566 total time=   0.0s\n",
      "[CV 1/3] END estimator__C=20, estimator__epsilon=70, estimator__gamma=0.06, estimator__kernel=rbf;, score=-3.605 total time=   0.0s\n",
      "[CV 2/3] END estimator__C=20, estimator__epsilon=70, estimator__gamma=0.06, estimator__kernel=rbf;, score=-2.347 total time=   0.0s\n",
      "[CV 3/3] END estimator__C=20, estimator__epsilon=70, estimator__gamma=0.06, estimator__kernel=rbf;, score=-2.566 total time=   0.0s\n",
      "[CV 1/3] END estimator__C=20, estimator__epsilon=80, estimator__gamma=0.06, estimator__kernel=rbf;, score=-3.605 total time=   0.0s\n",
      "[CV 2/3] END estimator__C=20, estimator__epsilon=80, estimator__gamma=0.06, estimator__kernel=rbf;, score=-2.347 total time=   0.0s\n",
      "[CV 3/3] END estimator__C=20, estimator__epsilon=80, estimator__gamma=0.06, estimator__kernel=rbf;, score=-2.566 total time=   0.0s\n",
      "[CV 1/3] END estimator__C=20, estimator__epsilon=90, estimator__gamma=0.06, estimator__kernel=rbf;, score=-3.605 total time=   0.0s\n",
      "[CV 2/3] END estimator__C=20, estimator__epsilon=90, estimator__gamma=0.06, estimator__kernel=rbf;, score=-2.347 total time=   0.0s\n",
      "[CV 3/3] END estimator__C=20, estimator__epsilon=90, estimator__gamma=0.06, estimator__kernel=rbf;, score=-2.566 total time=   0.0s\n",
      "[CV 1/3] END estimator__C=20, estimator__epsilon=100, estimator__gamma=0.06, estimator__kernel=rbf;, score=-3.605 total time=   0.0s\n",
      "[CV 2/3] END estimator__C=20, estimator__epsilon=100, estimator__gamma=0.06, estimator__kernel=rbf;, score=-2.347 total time=   0.0s\n",
      "[CV 3/3] END estimator__C=20, estimator__epsilon=100, estimator__gamma=0.06, estimator__kernel=rbf;, score=-2.566 total time=   0.0s\n",
      "[CV 1/3] END estimator__C=20, estimator__epsilon=200, estimator__gamma=0.06, estimator__kernel=rbf;, score=-3.605 total time=   0.0s\n",
      "[CV 2/3] END estimator__C=20, estimator__epsilon=200, estimator__gamma=0.06, estimator__kernel=rbf;, score=-2.347 total time=   0.0s\n",
      "[CV 3/3] END estimator__C=20, estimator__epsilon=200, estimator__gamma=0.06, estimator__kernel=rbf;, score=-2.566 total time=   0.0s\n",
      "[CV 1/3] END estimator__C=20, estimator__epsilon=300, estimator__gamma=0.06, estimator__kernel=rbf;, score=-3.605 total time=   0.0s\n",
      "[CV 2/3] END estimator__C=20, estimator__epsilon=300, estimator__gamma=0.06, estimator__kernel=rbf;, score=-2.347 total time=   0.0s\n",
      "[CV 3/3] END estimator__C=20, estimator__epsilon=300, estimator__gamma=0.06, estimator__kernel=rbf;, score=-2.566 total time=   0.0s\n",
      "[CV 1/3] END estimator__C=20, estimator__epsilon=400, estimator__gamma=0.06, estimator__kernel=rbf;, score=-3.605 total time=   0.0s\n",
      "[CV 2/3] END estimator__C=20, estimator__epsilon=400, estimator__gamma=0.06, estimator__kernel=rbf;, score=-2.347 total time=   0.0s\n",
      "[CV 3/3] END estimator__C=20, estimator__epsilon=400, estimator__gamma=0.06, estimator__kernel=rbf;, score=-2.566 total time=   0.0s\n",
      "[CV 1/3] END estimator__C=20, estimator__epsilon=500, estimator__gamma=0.06, estimator__kernel=rbf;, score=-3.605 total time=   0.0s\n",
      "[CV 2/3] END estimator__C=20, estimator__epsilon=500, estimator__gamma=0.06, estimator__kernel=rbf;, score=-2.347 total time=   0.0s\n",
      "[CV 3/3] END estimator__C=20, estimator__epsilon=500, estimator__gamma=0.06, estimator__kernel=rbf;, score=-2.566 total time=   0.0s\n",
      "[CV 1/3] END estimator__C=20, estimator__epsilon=600, estimator__gamma=0.06, estimator__kernel=rbf;, score=-3.605 total time=   0.0s\n",
      "[CV 2/3] END estimator__C=20, estimator__epsilon=600, estimator__gamma=0.06, estimator__kernel=rbf;, score=-2.347 total time=   0.0s\n",
      "[CV 3/3] END estimator__C=20, estimator__epsilon=600, estimator__gamma=0.06, estimator__kernel=rbf;, score=-2.566 total time=   0.0s\n",
      "[CV 1/3] END estimator__C=20, estimator__epsilon=700, estimator__gamma=0.06, estimator__kernel=rbf;, score=-3.605 total time=   0.0s\n",
      "[CV 2/3] END estimator__C=20, estimator__epsilon=700, estimator__gamma=0.06, estimator__kernel=rbf;, score=-2.347 total time=   0.0s\n",
      "[CV 3/3] END estimator__C=20, estimator__epsilon=700, estimator__gamma=0.06, estimator__kernel=rbf;, score=-2.566 total time=   0.0s\n",
      "[CV 1/3] END estimator__C=20, estimator__epsilon=800, estimator__gamma=0.06, estimator__kernel=rbf;, score=-3.605 total time=   0.0s\n",
      "[CV 2/3] END estimator__C=20, estimator__epsilon=800, estimator__gamma=0.06, estimator__kernel=rbf;, score=-2.347 total time=   0.0s\n",
      "[CV 3/3] END estimator__C=20, estimator__epsilon=800, estimator__gamma=0.06, estimator__kernel=rbf;, score=-2.566 total time=   0.0s\n",
      "[CV 1/3] END estimator__C=20, estimator__epsilon=900, estimator__gamma=0.06, estimator__kernel=rbf;, score=-3.605 total time=   0.0s\n",
      "[CV 2/3] END estimator__C=20, estimator__epsilon=900, estimator__gamma=0.06, estimator__kernel=rbf;, score=-2.347 total time=   0.0s\n",
      "[CV 3/3] END estimator__C=20, estimator__epsilon=900, estimator__gamma=0.06, estimator__kernel=rbf;, score=-2.566 total time=   0.0s\n",
      "[CV 1/3] END estimator__C=20, estimator__epsilon=1000, estimator__gamma=0.06, estimator__kernel=rbf;, score=-3.605 total time=   0.0s\n",
      "[CV 2/3] END estimator__C=20, estimator__epsilon=1000, estimator__gamma=0.06, estimator__kernel=rbf;, score=-2.347 total time=   0.0s\n",
      "[CV 3/3] END estimator__C=20, estimator__epsilon=1000, estimator__gamma=0.06, estimator__kernel=rbf;, score=-2.566 total time=   0.0s\n"
     ]
    },
    {
     "data": {
      "text/html": [
       "<style>#sk-container-id-39 {color: black;background-color: white;}#sk-container-id-39 pre{padding: 0;}#sk-container-id-39 div.sk-toggleable {background-color: white;}#sk-container-id-39 label.sk-toggleable__label {cursor: pointer;display: block;width: 100%;margin-bottom: 0;padding: 0.3em;box-sizing: border-box;text-align: center;}#sk-container-id-39 label.sk-toggleable__label-arrow:before {content: \"▸\";float: left;margin-right: 0.25em;color: #696969;}#sk-container-id-39 label.sk-toggleable__label-arrow:hover:before {color: black;}#sk-container-id-39 div.sk-estimator:hover label.sk-toggleable__label-arrow:before {color: black;}#sk-container-id-39 div.sk-toggleable__content {max-height: 0;max-width: 0;overflow: hidden;text-align: left;background-color: #f0f8ff;}#sk-container-id-39 div.sk-toggleable__content pre {margin: 0.2em;color: black;border-radius: 0.25em;background-color: #f0f8ff;}#sk-container-id-39 input.sk-toggleable__control:checked~div.sk-toggleable__content {max-height: 200px;max-width: 100%;overflow: auto;}#sk-container-id-39 input.sk-toggleable__control:checked~label.sk-toggleable__label-arrow:before {content: \"▾\";}#sk-container-id-39 div.sk-estimator input.sk-toggleable__control:checked~label.sk-toggleable__label {background-color: #d4ebff;}#sk-container-id-39 div.sk-label input.sk-toggleable__control:checked~label.sk-toggleable__label {background-color: #d4ebff;}#sk-container-id-39 input.sk-hidden--visually {border: 0;clip: rect(1px 1px 1px 1px);clip: rect(1px, 1px, 1px, 1px);height: 1px;margin: -1px;overflow: hidden;padding: 0;position: absolute;width: 1px;}#sk-container-id-39 div.sk-estimator {font-family: monospace;background-color: #f0f8ff;border: 1px dotted black;border-radius: 0.25em;box-sizing: border-box;margin-bottom: 0.5em;}#sk-container-id-39 div.sk-estimator:hover {background-color: #d4ebff;}#sk-container-id-39 div.sk-parallel-item::after {content: \"\";width: 100%;border-bottom: 1px solid gray;flex-grow: 1;}#sk-container-id-39 div.sk-label:hover label.sk-toggleable__label {background-color: #d4ebff;}#sk-container-id-39 div.sk-serial::before {content: \"\";position: absolute;border-left: 1px solid gray;box-sizing: border-box;top: 0;bottom: 0;left: 50%;z-index: 0;}#sk-container-id-39 div.sk-serial {display: flex;flex-direction: column;align-items: center;background-color: white;padding-right: 0.2em;padding-left: 0.2em;position: relative;}#sk-container-id-39 div.sk-item {position: relative;z-index: 1;}#sk-container-id-39 div.sk-parallel {display: flex;align-items: stretch;justify-content: center;background-color: white;position: relative;}#sk-container-id-39 div.sk-item::before, #sk-container-id-39 div.sk-parallel-item::before {content: \"\";position: absolute;border-left: 1px solid gray;box-sizing: border-box;top: 0;bottom: 0;left: 50%;z-index: -1;}#sk-container-id-39 div.sk-parallel-item {display: flex;flex-direction: column;z-index: 1;position: relative;background-color: white;}#sk-container-id-39 div.sk-parallel-item:first-child::after {align-self: flex-end;width: 50%;}#sk-container-id-39 div.sk-parallel-item:last-child::after {align-self: flex-start;width: 50%;}#sk-container-id-39 div.sk-parallel-item:only-child::after {width: 0;}#sk-container-id-39 div.sk-dashed-wrapped {border: 1px dashed gray;margin: 0 0.4em 0.5em 0.4em;box-sizing: border-box;padding-bottom: 0.4em;background-color: white;}#sk-container-id-39 div.sk-label label {font-family: monospace;font-weight: bold;display: inline-block;line-height: 1.2em;}#sk-container-id-39 div.sk-label-container {text-align: center;}#sk-container-id-39 div.sk-container {/* jupyter's `normalize.less` sets `[hidden] { display: none; }` but bootstrap.min.css set `[hidden] { display: none !important; }` so we also need the `!important` here to be able to override the default hidden behavior on the sphinx rendered scikit-learn.org. See: https://github.com/scikit-learn/scikit-learn/issues/21755 */display: inline-block !important;position: relative;}#sk-container-id-39 div.sk-text-repr-fallback {display: none;}</style><div id=\"sk-container-id-39\" class=\"sk-top-container\"><div class=\"sk-text-repr-fallback\"><pre>GridSearchCV(cv=3, estimator=MultiOutputRegressor(estimator=SVR()),\n",
       "             param_grid={&#x27;estimator__C&#x27;: [20],\n",
       "                         &#x27;estimator__epsilon&#x27;: [0.01, 0.02, 0.03, 0.04, 0.05,\n",
       "                                                0.06, 0.07, 0.08, 0.09, 0.1,\n",
       "                                                0.2, 0.3, 0.4, 0.5, 0.6, 0.7,\n",
       "                                                0.8, 0.9, 1, 2, 3, 4, 5, 6, 7,\n",
       "                                                8, 9, 10, 20, 30, ...],\n",
       "                         &#x27;estimator__gamma&#x27;: [0.06],\n",
       "                         &#x27;estimator__kernel&#x27;: [&#x27;rbf&#x27;]},\n",
       "             scoring=make_scorer(euc, greater_is_better=False), verbose=3)</pre><b>In a Jupyter environment, please rerun this cell to show the HTML representation or trust the notebook. <br />On GitHub, the HTML representation is unable to render, please try loading this page with nbviewer.org.</b></div><div class=\"sk-container\" hidden><div class=\"sk-item sk-dashed-wrapped\"><div class=\"sk-label-container\"><div class=\"sk-label sk-toggleable\"><input class=\"sk-toggleable__control sk-hidden--visually\" id=\"sk-estimator-id-134\" type=\"checkbox\" ><label for=\"sk-estimator-id-134\" class=\"sk-toggleable__label sk-toggleable__label-arrow\">GridSearchCV</label><div class=\"sk-toggleable__content\"><pre>GridSearchCV(cv=3, estimator=MultiOutputRegressor(estimator=SVR()),\n",
       "             param_grid={&#x27;estimator__C&#x27;: [20],\n",
       "                         &#x27;estimator__epsilon&#x27;: [0.01, 0.02, 0.03, 0.04, 0.05,\n",
       "                                                0.06, 0.07, 0.08, 0.09, 0.1,\n",
       "                                                0.2, 0.3, 0.4, 0.5, 0.6, 0.7,\n",
       "                                                0.8, 0.9, 1, 2, 3, 4, 5, 6, 7,\n",
       "                                                8, 9, 10, 20, 30, ...],\n",
       "                         &#x27;estimator__gamma&#x27;: [0.06],\n",
       "                         &#x27;estimator__kernel&#x27;: [&#x27;rbf&#x27;]},\n",
       "             scoring=make_scorer(euc, greater_is_better=False), verbose=3)</pre></div></div></div><div class=\"sk-parallel\"><div class=\"sk-parallel-item\"><div class=\"sk-item\"><div class=\"sk-label-container\"><div class=\"sk-label sk-toggleable\"><input class=\"sk-toggleable__control sk-hidden--visually\" id=\"sk-estimator-id-135\" type=\"checkbox\" ><label for=\"sk-estimator-id-135\" class=\"sk-toggleable__label sk-toggleable__label-arrow\">estimator: MultiOutputRegressor</label><div class=\"sk-toggleable__content\"><pre>MultiOutputRegressor(estimator=SVR())</pre></div></div></div><div class=\"sk-serial\"><div class=\"sk-item sk-dashed-wrapped\"><div class=\"sk-parallel\"><div class=\"sk-parallel-item\"><div class=\"sk-item\"><div class=\"sk-label-container\"><div class=\"sk-label sk-toggleable\"><input class=\"sk-toggleable__control sk-hidden--visually\" id=\"sk-estimator-id-136\" type=\"checkbox\" ><label for=\"sk-estimator-id-136\" class=\"sk-toggleable__label sk-toggleable__label-arrow\">estimator: SVR</label><div class=\"sk-toggleable__content\"><pre>SVR()</pre></div></div></div><div class=\"sk-serial\"><div class=\"sk-item\"><div class=\"sk-estimator sk-toggleable\"><input class=\"sk-toggleable__control sk-hidden--visually\" id=\"sk-estimator-id-137\" type=\"checkbox\" ><label for=\"sk-estimator-id-137\" class=\"sk-toggleable__label sk-toggleable__label-arrow\">SVR</label><div class=\"sk-toggleable__content\"><pre>SVR()</pre></div></div></div></div></div></div></div></div></div></div></div></div></div></div></div>"
      ],
      "text/plain": [
       "GridSearchCV(cv=3, estimator=MultiOutputRegressor(estimator=SVR()),\n",
       "             param_grid={'estimator__C': [20],\n",
       "                         'estimator__epsilon': [0.01, 0.02, 0.03, 0.04, 0.05,\n",
       "                                                0.06, 0.07, 0.08, 0.09, 0.1,\n",
       "                                                0.2, 0.3, 0.4, 0.5, 0.6, 0.7,\n",
       "                                                0.8, 0.9, 1, 2, 3, 4, 5, 6, 7,\n",
       "                                                8, 9, 10, 20, 30, ...],\n",
       "                         'estimator__gamma': [0.06],\n",
       "                         'estimator__kernel': ['rbf']},\n",
       "             scoring=make_scorer(euc, greater_is_better=False), verbose=3)"
      ]
     },
     "execution_count": 205,
     "metadata": {},
     "output_type": "execute_result"
    }
   ],
   "source": [
    "#Applying grid search to the dataset\n",
    "grid_reg = GridSearchCV(estimator=reg,\n",
    "                      param_grid=parameters,\n",
    "                      scoring=custom_scorer,\n",
    "                        cv=3,\n",
    "                      verbose=3)\n",
    "grid_reg.fit(a_train,b_train)\n"
   ]
  },
  {
   "cell_type": "code",
   "execution_count": 206,
   "id": "48c7477f-d767-4290-8b54-8aa3d2e8aeab",
   "metadata": {},
   "outputs": [],
   "source": [
    "best_para = grid_reg.best_params_#Finding the best parameter\n",
    "epsilon_SVR=best_para['estimator__epsilon']#Extracting epsilon value which has the lowest EUC\n"
   ]
  },
  {
   "cell_type": "code",
   "execution_count": 207,
   "id": "54b7dc0d-4a26-46a0-8452-185d6642c327",
   "metadata": {},
   "outputs": [
    {
     "data": {
      "text/plain": [
       "{'estimator__C': 20,\n",
       " 'estimator__epsilon': 0.8,\n",
       " 'estimator__gamma': 0.06,\n",
       " 'estimator__kernel': 'rbf'}"
      ]
     },
     "execution_count": 207,
     "metadata": {},
     "output_type": "execute_result"
    }
   ],
   "source": [
    "#Printing the best epsilon parameter\n",
    "best_para"
   ]
  },
  {
   "cell_type": "code",
   "execution_count": 208,
   "id": "02e64173-3b48-4db1-aa2e-8f461c4858f6",
   "metadata": {},
   "outputs": [],
   "source": [
    "#Converting test set into panda series\n",
    "for i in range(0,len(a_test)):\n",
    "    a_test.iloc[i]=np.array(a_test.iloc[i])\n",
    "for i in range(0,len(b_test)):\n",
    "    b_test.iloc[i]=np.array(b_test.iloc[i])\n",
    "      \n",
    "\n",
    "a_test = a_test.apply(pd.Series)\n",
    "b_test = b_test.apply(pd.Series)\n",
    "reg = MultiOutputRegressor(SVR(C=20,epsilon=epsilon_SVR,gamma=0.06,kernel='rbf'))"
   ]
  },
  {
   "cell_type": "code",
   "execution_count": 209,
   "id": "92546e86-f636-4885-8b47-dd3ca964bcac",
   "metadata": {},
   "outputs": [
    {
     "data": {
      "text/html": [
       "<style>#sk-container-id-40 {color: black;background-color: white;}#sk-container-id-40 pre{padding: 0;}#sk-container-id-40 div.sk-toggleable {background-color: white;}#sk-container-id-40 label.sk-toggleable__label {cursor: pointer;display: block;width: 100%;margin-bottom: 0;padding: 0.3em;box-sizing: border-box;text-align: center;}#sk-container-id-40 label.sk-toggleable__label-arrow:before {content: \"▸\";float: left;margin-right: 0.25em;color: #696969;}#sk-container-id-40 label.sk-toggleable__label-arrow:hover:before {color: black;}#sk-container-id-40 div.sk-estimator:hover label.sk-toggleable__label-arrow:before {color: black;}#sk-container-id-40 div.sk-toggleable__content {max-height: 0;max-width: 0;overflow: hidden;text-align: left;background-color: #f0f8ff;}#sk-container-id-40 div.sk-toggleable__content pre {margin: 0.2em;color: black;border-radius: 0.25em;background-color: #f0f8ff;}#sk-container-id-40 input.sk-toggleable__control:checked~div.sk-toggleable__content {max-height: 200px;max-width: 100%;overflow: auto;}#sk-container-id-40 input.sk-toggleable__control:checked~label.sk-toggleable__label-arrow:before {content: \"▾\";}#sk-container-id-40 div.sk-estimator input.sk-toggleable__control:checked~label.sk-toggleable__label {background-color: #d4ebff;}#sk-container-id-40 div.sk-label input.sk-toggleable__control:checked~label.sk-toggleable__label {background-color: #d4ebff;}#sk-container-id-40 input.sk-hidden--visually {border: 0;clip: rect(1px 1px 1px 1px);clip: rect(1px, 1px, 1px, 1px);height: 1px;margin: -1px;overflow: hidden;padding: 0;position: absolute;width: 1px;}#sk-container-id-40 div.sk-estimator {font-family: monospace;background-color: #f0f8ff;border: 1px dotted black;border-radius: 0.25em;box-sizing: border-box;margin-bottom: 0.5em;}#sk-container-id-40 div.sk-estimator:hover {background-color: #d4ebff;}#sk-container-id-40 div.sk-parallel-item::after {content: \"\";width: 100%;border-bottom: 1px solid gray;flex-grow: 1;}#sk-container-id-40 div.sk-label:hover label.sk-toggleable__label {background-color: #d4ebff;}#sk-container-id-40 div.sk-serial::before {content: \"\";position: absolute;border-left: 1px solid gray;box-sizing: border-box;top: 0;bottom: 0;left: 50%;z-index: 0;}#sk-container-id-40 div.sk-serial {display: flex;flex-direction: column;align-items: center;background-color: white;padding-right: 0.2em;padding-left: 0.2em;position: relative;}#sk-container-id-40 div.sk-item {position: relative;z-index: 1;}#sk-container-id-40 div.sk-parallel {display: flex;align-items: stretch;justify-content: center;background-color: white;position: relative;}#sk-container-id-40 div.sk-item::before, #sk-container-id-40 div.sk-parallel-item::before {content: \"\";position: absolute;border-left: 1px solid gray;box-sizing: border-box;top: 0;bottom: 0;left: 50%;z-index: -1;}#sk-container-id-40 div.sk-parallel-item {display: flex;flex-direction: column;z-index: 1;position: relative;background-color: white;}#sk-container-id-40 div.sk-parallel-item:first-child::after {align-self: flex-end;width: 50%;}#sk-container-id-40 div.sk-parallel-item:last-child::after {align-self: flex-start;width: 50%;}#sk-container-id-40 div.sk-parallel-item:only-child::after {width: 0;}#sk-container-id-40 div.sk-dashed-wrapped {border: 1px dashed gray;margin: 0 0.4em 0.5em 0.4em;box-sizing: border-box;padding-bottom: 0.4em;background-color: white;}#sk-container-id-40 div.sk-label label {font-family: monospace;font-weight: bold;display: inline-block;line-height: 1.2em;}#sk-container-id-40 div.sk-label-container {text-align: center;}#sk-container-id-40 div.sk-container {/* jupyter's `normalize.less` sets `[hidden] { display: none; }` but bootstrap.min.css set `[hidden] { display: none !important; }` so we also need the `!important` here to be able to override the default hidden behavior on the sphinx rendered scikit-learn.org. See: https://github.com/scikit-learn/scikit-learn/issues/21755 */display: inline-block !important;position: relative;}#sk-container-id-40 div.sk-text-repr-fallback {display: none;}</style><div id=\"sk-container-id-40\" class=\"sk-top-container\"><div class=\"sk-text-repr-fallback\"><pre>MultiOutputRegressor(estimator=SVR(C=20, epsilon=0.8, gamma=0.06))</pre><b>In a Jupyter environment, please rerun this cell to show the HTML representation or trust the notebook. <br />On GitHub, the HTML representation is unable to render, please try loading this page with nbviewer.org.</b></div><div class=\"sk-container\" hidden><div class=\"sk-item sk-dashed-wrapped\"><div class=\"sk-label-container\"><div class=\"sk-label sk-toggleable\"><input class=\"sk-toggleable__control sk-hidden--visually\" id=\"sk-estimator-id-138\" type=\"checkbox\" ><label for=\"sk-estimator-id-138\" class=\"sk-toggleable__label sk-toggleable__label-arrow\">MultiOutputRegressor</label><div class=\"sk-toggleable__content\"><pre>MultiOutputRegressor(estimator=SVR(C=20, epsilon=0.8, gamma=0.06))</pre></div></div></div><div class=\"sk-parallel\"><div class=\"sk-parallel-item\"><div class=\"sk-item\"><div class=\"sk-label-container\"><div class=\"sk-label sk-toggleable\"><input class=\"sk-toggleable__control sk-hidden--visually\" id=\"sk-estimator-id-139\" type=\"checkbox\" ><label for=\"sk-estimator-id-139\" class=\"sk-toggleable__label sk-toggleable__label-arrow\">estimator: SVR</label><div class=\"sk-toggleable__content\"><pre>SVR(C=20, epsilon=0.8, gamma=0.06)</pre></div></div></div><div class=\"sk-serial\"><div class=\"sk-item\"><div class=\"sk-estimator sk-toggleable\"><input class=\"sk-toggleable__control sk-hidden--visually\" id=\"sk-estimator-id-140\" type=\"checkbox\" ><label for=\"sk-estimator-id-140\" class=\"sk-toggleable__label sk-toggleable__label-arrow\">SVR</label><div class=\"sk-toggleable__content\"><pre>SVR(C=20, epsilon=0.8, gamma=0.06)</pre></div></div></div></div></div></div></div></div></div></div>"
      ],
      "text/plain": [
       "MultiOutputRegressor(estimator=SVR(C=20, epsilon=0.8, gamma=0.06))"
      ]
     },
     "execution_count": 209,
     "metadata": {},
     "output_type": "execute_result"
    }
   ],
   "source": [
    "#Fitting the Model\n",
    "reg.fit(a_train,b_train)"
   ]
  },
  {
   "cell_type": "code",
   "execution_count": 210,
   "id": "b59b13d5-f0a5-453d-98b4-12a513335deb",
   "metadata": {},
   "outputs": [],
   "source": [
    "y_pred = reg.predict(a_test)"
   ]
  },
  {
   "cell_type": "code",
   "execution_count": 211,
   "id": "fe249e3d-6fd9-46bf-a895-33e04fd4bcc6",
   "metadata": {},
   "outputs": [
    {
     "data": {
      "text/plain": [
       "1.3820012226138634"
      ]
     },
     "execution_count": 211,
     "metadata": {},
     "output_type": "execute_result"
    }
   ],
   "source": [
    "loss=euc(y_pred,b_test)\n",
    "\n",
    "loss"
   ]
  }
 ],
 "metadata": {
  "kernelspec": {
   "display_name": "Python 3.8",
   "language": "python",
   "name": "python3"
  },
  "language_info": {
   "codemirror_mode": {
    "name": "ipython",
    "version": 3
   },
   "file_extension": ".py",
   "mimetype": "text/x-python",
   "name": "python",
   "nbconvert_exporter": "python",
   "pygments_lexer": "ipython3",
   "version": "3.8.2"
  }
 },
 "nbformat": 4,
 "nbformat_minor": 5
}
